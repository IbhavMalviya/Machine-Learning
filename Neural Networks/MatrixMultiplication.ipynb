{
 "cells": [
  {
   "cell_type": "code",
   "execution_count": 1,
   "id": "2309fed6-1230-4cdf-bdf4-e3944f850b50",
   "metadata": {},
   "outputs": [],
   "source": [
    "import numpy as np"
   ]
  },
  {
   "cell_type": "code",
   "execution_count": 24,
   "id": "f038be72-9c04-4f29-a9f7-a7fbbe0146a9",
   "metadata": {},
   "outputs": [
    {
     "name": "stdout",
     "output_type": "stream",
     "text": [
      "[[ 11.   17.   14. ]\n",
      " [-11.  -17.  -14. ]\n",
      " [  1.1   1.7   1.4]]\n"
     ]
    }
   ],
   "source": [
    "A=np.array([[1,-1,0.1]])\n",
    "AT=np.array([[1,2],[-1,-2],[0.1,0.2]])\n",
    "A_T=A.T #Transpose\n",
    "\n",
    "W=np.array([[3,5,4],[4,6,5]])\n",
    "Z=np.matmul(AT,W) #AT @ W\n",
    "print(Z)"
   ]
  },
  {
   "cell_type": "code",
   "execution_count": null,
   "id": "f3e160f1-c3aa-4386-ba9e-4a5a10b18000",
   "metadata": {},
   "outputs": [],
   "source": []
  },
  {
   "cell_type": "code",
   "execution_count": null,
   "id": "10108254-0c02-4316-8801-d81019586ec7",
   "metadata": {},
   "outputs": [],
   "source": []
  }
 ],
 "metadata": {
  "kernelspec": {
   "display_name": "Python 3",
   "language": "python",
   "name": "python3"
  },
  "language_info": {
   "codemirror_mode": {
    "name": "ipython",
    "version": 3
   },
   "file_extension": ".py",
   "mimetype": "text/x-python",
   "name": "python",
   "nbconvert_exporter": "python",
   "pygments_lexer": "ipython3",
   "version": "3.11.4"
  }
 },
 "nbformat": 4,
 "nbformat_minor": 5
}
